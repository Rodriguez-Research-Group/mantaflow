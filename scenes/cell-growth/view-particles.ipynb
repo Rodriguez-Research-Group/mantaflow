{
 "cells": [
  {
   "cell_type": "code",
   "execution_count": 13,
   "metadata": {},
   "outputs": [],
   "source": [
    "import numpy as np\n",
    "import k3d\n",
    "import pandas as pd"
   ]
  },
  {
   "cell_type": "code",
   "execution_count": 27,
   "metadata": {
    "tags": []
   },
   "outputs": [
    {
     "output_type": "execute_result",
     "data": {
      "text/plain": "                                               position\n                                                       \n0      [+26.122849,+46.122944,+0.500000] , 1. [+0.00...\n1      [+26.453651,+46.224190,+0.500000] , 1. [+0.00...\n2      [+26.898863,+46.196522,+0.500000] , 1. [+0.00...\n3      [+26.112722,+46.452816,+0.500000] , 1. [+0.00...\n4      [+26.557117,+46.541092,+0.500000] , 1. [+0.00...\n...                                                 ...\n1399   [+37.534695,+58.525185,+0.500000] , 1. [+0.00...\n1400   [+37.884216,+58.449135,+0.500000] , 1. [+0.00...\n1401   [+37.140438,+58.865883,+0.500000] , 1. [+0.00...\n1402   [+37.530254,+58.855579,+0.500000] , 1. [+0.00...\n1403   [+37.851040,+58.884434,+0.500000] , 1. [+0.00...\n\n[1404 rows x 1 columns]",
      "text/html": "<div>\n<style scoped>\n    .dataframe tbody tr th:only-of-type {\n        vertical-align: middle;\n    }\n\n    .dataframe tbody tr th {\n        vertical-align: top;\n    }\n\n    .dataframe thead th {\n        text-align: right;\n    }\n</style>\n<table border=\"1\" class=\"dataframe\">\n  <thead>\n    <tr style=\"text-align: right;\">\n      <th></th>\n      <th>position</th>\n    </tr>\n    <tr>\n      <th></th>\n      <th></th>\n    </tr>\n  </thead>\n  <tbody>\n    <tr>\n      <th>0</th>\n      <td>[+26.122849,+46.122944,+0.500000] , 1. [+0.00...</td>\n    </tr>\n    <tr>\n      <th>1</th>\n      <td>[+26.453651,+46.224190,+0.500000] , 1. [+0.00...</td>\n    </tr>\n    <tr>\n      <th>2</th>\n      <td>[+26.898863,+46.196522,+0.500000] , 1. [+0.00...</td>\n    </tr>\n    <tr>\n      <th>3</th>\n      <td>[+26.112722,+46.452816,+0.500000] , 1. [+0.00...</td>\n    </tr>\n    <tr>\n      <th>4</th>\n      <td>[+26.557117,+46.541092,+0.500000] , 1. [+0.00...</td>\n    </tr>\n    <tr>\n      <th>...</th>\n      <td>...</td>\n    </tr>\n    <tr>\n      <th>1399</th>\n      <td>[+37.534695,+58.525185,+0.500000] , 1. [+0.00...</td>\n    </tr>\n    <tr>\n      <th>1400</th>\n      <td>[+37.884216,+58.449135,+0.500000] , 1. [+0.00...</td>\n    </tr>\n    <tr>\n      <th>1401</th>\n      <td>[+37.140438,+58.865883,+0.500000] , 1. [+0.00...</td>\n    </tr>\n    <tr>\n      <th>1402</th>\n      <td>[+37.530254,+58.855579,+0.500000] , 1. [+0.00...</td>\n    </tr>\n    <tr>\n      <th>1403</th>\n      <td>[+37.851040,+58.884434,+0.500000] , 1. [+0.00...</td>\n    </tr>\n  </tbody>\n</table>\n<p>1404 rows × 1 columns</p>\n</div>"
     },
     "metadata": {},
     "execution_count": 27
    }
   ],
   "source": [
    "df = pd.read_table('./results/particles-frame-0.txt', skiprows=1, usecols=[0,1], names=['','position'], sep=':', index_col=0)\n",
    "df"
   ]
  },
  {
   "cell_type": "code",
   "execution_count": 28,
   "metadata": {},
   "outputs": [
    {
     "output_type": "display_data",
     "data": {
      "text/plain": "Plot(antialias=3, axes=['x', 'y', 'z'], axes_helper=1.0, background_color=16777215, camera=[2, -3, 0.2, 0.0, 0…",
      "application/vnd.jupyter.widget-view+json": {
       "version_major": 2,
       "version_minor": 0,
       "model_id": "bbed7b1ed2124cf29489bae49f656fde"
      }
     },
     "metadata": {}
    },
    {
     "output_type": "display_data",
     "data": {
      "text/plain": "Output()",
      "application/vnd.jupyter.widget-view+json": {
       "version_major": 2,
       "version_minor": 0,
       "model_id": "984bfc3ac728407e8362a7ae19e20f18"
      }
     },
     "metadata": {}
    }
   ],
   "source": [
    "Nx, Ny  = 34, 33\n",
    "xmin, xmax = -3, 4\n",
    "ymin, ymax = -0, 3\n",
    "\n",
    "x = np.linspace(xmin, xmax, Nx)\n",
    "y = np.linspace(ymin, ymax, Ny)\n",
    "x, y = np.meshgrid(x, y)\n",
    "f = np.sin(x**2 + y**2)\n",
    "\n",
    "plot = k3d.plot()\n",
    "plt_surface = k3d.surface(f.astype(np.float32), bounds=[xmin,xmax,ymin,ymax])\n",
    "plot += plt_surface\n",
    "plot.display()"
   ]
  },
  {
   "cell_type": "code",
   "execution_count": null,
   "metadata": {},
   "outputs": [],
   "source": []
  }
 ],
 "metadata": {
  "language_info": {
   "codemirror_mode": {
    "name": "ipython",
    "version": 3
   },
   "file_extension": ".py",
   "mimetype": "text/x-python",
   "name": "python",
   "nbconvert_exporter": "python",
   "pygments_lexer": "ipython3",
   "version": "3.7.6-final"
  },
  "orig_nbformat": 2,
  "kernelspec": {
   "name": "python37664bitanaconda3condab615bb15fcd4464bb2000e7d9e446dfd",
   "display_name": "Python 3.7.6 64-bit ('anaconda3': conda)"
  }
 },
 "nbformat": 4,
 "nbformat_minor": 2
}