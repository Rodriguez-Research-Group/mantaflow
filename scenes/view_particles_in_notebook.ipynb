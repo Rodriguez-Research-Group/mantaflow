{
 "cells": [
  {
   "cell_type": "code",
   "execution_count": 1,
   "metadata": {},
   "outputs": [],
   "source": [
    "import k3d\n",
    "import numpy as np"
   ]
  },
  {
   "cell_type": "code",
   "execution_count": 2,
   "metadata": {},
   "outputs": [
    {
     "output_type": "display_data",
     "data": {
      "text/plain": "Plot(antialias=3, axes=['x', 'y', 'z'], axes_helper=1.0, background_color=16777215, camera=[2, -3, 0.2, 0.0, 0…",
      "application/vnd.jupyter.widget-view+json": {
       "version_major": 2,
       "version_minor": 0,
       "model_id": "17f27373a6c54bf5966f364a96882600"
      }
     },
     "metadata": {}
    },
    {
     "output_type": "display_data",
     "data": {
      "text/plain": "Output()",
      "application/vnd.jupyter.widget-view+json": {
       "version_major": 2,
       "version_minor": 0,
       "model_id": "070ba65666b8407794596c0157bdd6bb"
      }
     },
     "metadata": {}
    }
   ],
   "source": [
    "# View 50 frames at a time\n",
    "\n",
    "start = 0\n",
    "stop = 49\n",
    "\n",
    "if start > 0:\n",
    "    offset = start\n",
    "    start = 0\n",
    "    stop = stop - offset\n",
    "else:\n",
    "    offset = 0\n",
    "\n",
    "positions = {\n",
    "    str(t):np.loadtxt('frames/particles-frame-%d.nptxt' % (t+offset)).astype(np.float32) for t in range(start, stop, 1)\n",
    "}\n",
    "plot = k3d.plot(name='points', time=float(start))\n",
    "plt_points = k3d.points(positions=positions, point_size=0.4, shader='3dSpecular', color=0xD0D3D4, opacity=0.5)\n",
    "plot += plt_points\n",
    "plot.display()"
   ]
  },
  {
   "cell_type": "code",
   "execution_count": 2,
   "metadata": {},
   "outputs": [
    {
     "output_type": "display_data",
     "data": {
      "text/plain": "Output()",
      "application/vnd.jupyter.widget-view+json": {
       "version_major": 2,
       "version_minor": 0,
       "model_id": "cb2dd2dd2645492bb35b24809bcdc72c"
      }
     },
     "metadata": {}
    }
   ],
   "source": [
    "positions = np.loadtxt('frames/particles-frame-0.nptxt').astype(np.float32)\n",
    "plot = k3d.plot()\n",
    "points = k3d.points(positions, point_size=0.4, shader='3dSpecular')\n",
    "plot += points\n",
    "plot.display()"
   ]
  },
  {
   "cell_type": "code",
   "execution_count": null,
   "metadata": {},
   "outputs": [],
   "source": []
  }
 ],
 "metadata": {
  "language_info": {
   "codemirror_mode": {
    "name": "ipython",
    "version": 3
   },
   "file_extension": ".py",
   "mimetype": "text/x-python",
   "name": "python",
   "nbconvert_exporter": "python",
   "pygments_lexer": "ipython3",
   "version": "3.7.6-final"
  },
  "orig_nbformat": 2,
  "kernelspec": {
   "name": "python37664bitanaconda3condab615bb15fcd4464bb2000e7d9e446dfd",
   "display_name": "Python 3.7.6 64-bit ('anaconda3': conda)"
  }
 },
 "nbformat": 4,
 "nbformat_minor": 2
}